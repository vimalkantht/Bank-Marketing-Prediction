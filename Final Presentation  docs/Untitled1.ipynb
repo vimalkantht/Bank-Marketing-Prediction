{
 "cells": [
  {
   "cell_type": "code",
   "execution_count": 13,
   "id": "85d8aedc",
   "metadata": {},
   "outputs": [
    {
     "name": "stdout",
     "output_type": "stream",
     "text": [
      "enter a no8\n",
      " not prime\n"
     ]
    }
   ],
   "source": [
    "\n",
    "\n",
    "a =  int(input('enter a no'))\n",
    "\n",
    "\n",
    "for i in range(2,a):\n",
    "    if a%i == 1:\n",
    "        print(' not prime')\n",
    "        break\n",
    "else:\n",
    "    print('prime')"
   ]
  },
  {
   "cell_type": "code",
   "execution_count": 7,
   "id": "0be8ab2b",
   "metadata": {},
   "outputs": [
    {
     "data": {
      "text/plain": [
       "{1, 2, 3, 4, 6}"
      ]
     },
     "execution_count": 7,
     "metadata": {},
     "output_type": "execute_result"
    }
   ],
   "source": [
    "b =[1,4,6, 4,1,2,3]\n",
    " \n",
    "set(b)\n",
    "            "
   ]
  },
  {
   "cell_type": "code",
   "execution_count": 10,
   "id": "d833a8b0",
   "metadata": {},
   "outputs": [
    {
     "name": "stdout",
     "output_type": "stream",
     "text": [
      "*****\n",
      "****\n",
      "***\n",
      "**\n",
      "*\n"
     ]
    }
   ],
   "source": [
    "num1 = 5\n",
    "\n",
    "while(num1!=0):\n",
    "    print('*'*num1)\n",
    "    num1= num1-1"
   ]
  },
  {
   "cell_type": "code",
   "execution_count": 11,
   "id": "7e21d205",
   "metadata": {},
   "outputs": [
    {
     "data": {
      "text/plain": [
       "[3, 2, 1, 4, 6, 4, 1]"
      ]
     },
     "execution_count": 11,
     "metadata": {},
     "output_type": "execute_result"
    }
   ],
   "source": [
    "b =[1,4,6, 4,1,2,3]\n",
    "\n",
    "b[::-1]"
   ]
  },
  {
   "cell_type": "code",
   "execution_count": null,
   "id": "9c713e0c",
   "metadata": {},
   "outputs": [],
   "source": [
    "\n",
    "\n",
    "select distinct name from employee;\n",
    "\n",
    "select count(name)  from employee group by name"
   ]
  },
  {
   "cell_type": "code",
   "execution_count": null,
   "id": "f8a01c5a",
   "metadata": {},
   "outputs": [],
   "source": [
    "select * from employees group by dept_id order by salary desc limit 2"
   ]
  }
 ],
 "metadata": {
  "kernelspec": {
   "display_name": "Python 3 (ipykernel)",
   "language": "python",
   "name": "python3"
  },
  "language_info": {
   "codemirror_mode": {
    "name": "ipython",
    "version": 3
   },
   "file_extension": ".py",
   "mimetype": "text/x-python",
   "name": "python",
   "nbconvert_exporter": "python",
   "pygments_lexer": "ipython3",
   "version": "3.9.7"
  }
 },
 "nbformat": 4,
 "nbformat_minor": 5
}
